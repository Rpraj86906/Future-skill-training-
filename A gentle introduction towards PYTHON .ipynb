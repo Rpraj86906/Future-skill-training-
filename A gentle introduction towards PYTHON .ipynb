{
 "cells": [
  {
   "cell_type": "markdown",
   "metadata": {},
   "source": [
    "## introduction \n"
   ]
  },
  {
   "cell_type": "code",
   "execution_count": 1,
   "metadata": {},
   "outputs": [
    {
     "ename": "SyntaxError",
     "evalue": "invalid syntax (<ipython-input-1-ed403e90f212>, line 1)",
     "output_type": "error",
     "traceback": [
      "\u001b[1;36m  File \u001b[1;32m\"<ipython-input-1-ed403e90f212>\"\u001b[1;36m, line \u001b[1;32m1\u001b[0m\n\u001b[1;33m    Python is a great general purpose programming language, but with the help of a few popular libraries \\\u001b[0m\n\u001b[1;37m                ^\u001b[0m\n\u001b[1;31mSyntaxError\u001b[0m\u001b[1;31m:\u001b[0m invalid syntax\n"
     ]
    }
   ],
   "source": [
    "Python is a great general purpose programming language, but with the help of a few popular libraries \\\n",
    "\n"
   ]
  },
  {
   "cell_type": "code",
   "execution_count": 3,
   "metadata": {},
   "outputs": [
    {
     "name": "stdout",
     "output_type": "stream",
     "text": [
      "Python 3.8.5\n"
     ]
    }
   ],
   "source": [
    "!python --version\n"
   ]
  },
  {
   "cell_type": "code",
   "execution_count": 10,
   "metadata": {},
   "outputs": [
    {
     "name": "stdout",
     "output_type": "stream",
     "text": [
      "<class 'int'>\n",
      "9\n"
     ]
    }
   ],
   "source": [
    "x=3\n",
    "print(type(x))\n",
    "print(x**2)"
   ]
  },
  {
   "cell_type": "code",
   "execution_count": 11,
   "metadata": {},
   "outputs": [
    {
     "name": "stdout",
     "output_type": "stream",
     "text": [
      "Hello\n"
     ]
    }
   ],
   "source": [
    "a=\"hello\"\n",
    "print(a.title())"
   ]
  },
  {
   "cell_type": "code",
   "execution_count": 12,
   "metadata": {},
   "outputs": [
    {
     "name": "stdout",
     "output_type": "stream",
     "text": [
      "True\n"
     ]
    }
   ],
   "source": [
    "t,f= True , False\n",
    "print(t)"
   ]
  },
  {
   "cell_type": "code",
   "execution_count": 13,
   "metadata": {},
   "outputs": [
    {
     "name": "stdout",
     "output_type": "stream",
     "text": [
      "False\n"
     ]
    }
   ],
   "source": [
    "print(t and f)"
   ]
  },
  {
   "cell_type": "code",
   "execution_count": 14,
   "metadata": {},
   "outputs": [
    {
     "name": "stdout",
     "output_type": "stream",
     "text": [
      "True\n"
     ]
    }
   ],
   "source": [
    "print(t or f)"
   ]
  },
  {
   "cell_type": "code",
   "execution_count": 15,
   "metadata": {},
   "outputs": [
    {
     "name": "stdout",
     "output_type": "stream",
     "text": [
      "4\n"
     ]
    }
   ],
   "source": [
    "h=\"rahu\"\n",
    "print(len(h))"
   ]
  },
  {
   "cell_type": "code",
   "execution_count": 17,
   "metadata": {},
   "outputs": [
    {
     "name": "stdout",
     "output_type": "stream",
     "text": [
      "rahul  prajapt\n"
     ]
    }
   ],
   "source": [
    "h=\"rahul\"+\"  \"+\"prajapt\"\n",
    "print(h)"
   ]
  },
  {
   "cell_type": "code",
   "execution_count": 22,
   "metadata": {},
   "outputs": [
    {
     "ename": "NameError",
     "evalue": "name 'hel' is not defined",
     "output_type": "error",
     "traceback": [
      "\u001b[1;31m---------------------------------------------------------------------------\u001b[0m",
      "\u001b[1;31mNameError\u001b[0m                                 Traceback (most recent call last)",
      "\u001b[1;32m<ipython-input-22-e20b8d2ad796>\u001b[0m in \u001b[0;36m<module>\u001b[1;34m\u001b[0m\n\u001b[1;32m----> 1\u001b[1;33m \u001b[0mh\u001b[0m\u001b[1;33m=\u001b[0m\u001b[1;34m'{} {} {}'\u001b[0m\u001b[1;33m.\u001b[0m\u001b[0mformat\u001b[0m\u001b[1;33m(\u001b[0m\u001b[0mhel\u001b[0m\u001b[1;33m,\u001b[0m\u001b[0mworld\u001b[0m\u001b[1;33m,\u001b[0m\u001b[1;36m34\u001b[0m\u001b[1;33m)\u001b[0m\u001b[1;33m\u001b[0m\u001b[1;33m\u001b[0m\u001b[0m\n\u001b[0m\u001b[0;32m      2\u001b[0m \u001b[0mprint\u001b[0m\u001b[1;33m(\u001b[0m\u001b[0mh\u001b[0m\u001b[1;33m)\u001b[0m\u001b[1;33m\u001b[0m\u001b[1;33m\u001b[0m\u001b[0m\n",
      "\u001b[1;31mNameError\u001b[0m: name 'hel' is not defined"
     ]
    }
   ],
   "source": [
    "h='{} {} {}'.format(hel,world,34)\n",
    "print(h)"
   ]
  },
  {
   "cell_type": "code",
   "execution_count": 23,
   "metadata": {},
   "outputs": [
    {
     "name": "stdout",
     "output_type": "stream",
     "text": [
      "ELENA\n"
     ]
    }
   ],
   "source": [
    "t=\"elena\"\n",
    "print(t.upper())\n"
   ]
  },
  {
   "cell_type": "code",
   "execution_count": 33,
   "metadata": {},
   "outputs": [
    {
     "name": "stdout",
     "output_type": "stream",
     "text": [
      "[2, 3, 4, 'Rahul prajapt', 4.4] 4\n",
      "4.4\n",
      "raa\n",
      "4.4\n",
      "[2, 3, 'raa', 'Rahul prajapt']\n",
      "<class 'list'>\n",
      "\n"
     ]
    }
   ],
   "source": [
    "a=[2,3,4,\"Rahul prajapt\",4.4]\n",
    "print(a,a[2])\n",
    "print(a[-1])\n",
    "a[2]=\"raa\"\n",
    "print(a[2])\n",
    "b=a.pop()\n",
    "print(b)\n",
    "print(a)\n",
    "print(type(a))\n",
    "a.reverse()\n",
    "print()"
   ]
  },
  {
   "cell_type": "code",
   "execution_count": 50,
   "metadata": {},
   "outputs": [
    {
     "name": "stdout",
     "output_type": "stream",
     "text": [
      "[0, 1, 2, 3, 4]\n",
      "[2, 3]\n",
      "[0, 1, 2, 3, 4]\n",
      "[4, 3, 2, 1, 0]\n",
      "[0, 1, 2, 3]\n",
      "[0, 1, 2, 3, 4]\n"
     ]
    }
   ],
   "source": [
    "a=list(range(5))\n",
    "print(a)\n",
    "print(a[2:4])\n",
    "\n",
    "print(a[:5])\n",
    "print(a[::-1])\n",
    "print(a[:-1])\n",
    "print(a[::])"
   ]
  },
  {
   "cell_type": "code",
   "execution_count": 51,
   "metadata": {
    "scrolled": true
   },
   "outputs": [
    {
     "ename": "AttributeError",
     "evalue": "'list' object has no attribute 'list'",
     "output_type": "error",
     "traceback": [
      "\u001b[1;31m---------------------------------------------------------------------------\u001b[0m",
      "\u001b[1;31mAttributeError\u001b[0m                            Traceback (most recent call last)",
      "\u001b[1;32m<ipython-input-51-40fabcf343d5>\u001b[0m in \u001b[0;36m<module>\u001b[1;34m\u001b[0m\n\u001b[1;32m----> 1\u001b[1;33m \u001b[0ma\u001b[0m\u001b[1;33m.\u001b[0m\u001b[0mlist\u001b[0m\u001b[1;33m(\u001b[0m\u001b[0mrange\u001b[0m\u001b[1;33m(\u001b[0m\u001b[1;33m-\u001b[0m\u001b[1;36m5\u001b[0m\u001b[1;33m)\u001b[0m\u001b[1;33m)\u001b[0m\u001b[1;33m\u001b[0m\u001b[1;33m\u001b[0m\u001b[0m\n\u001b[0m\u001b[0;32m      2\u001b[0m \u001b[0mprint\u001b[0m\u001b[1;33m(\u001b[0m\u001b[0ma\u001b[0m\u001b[1;33m)\u001b[0m\u001b[1;33m\u001b[0m\u001b[1;33m\u001b[0m\u001b[0m\n",
      "\u001b[1;31mAttributeError\u001b[0m: 'list' object has no attribute 'list'"
     ]
    }
   ],
   "source": [
    "a.list(range(-5))\n",
    "print(a)\n"
   ]
  },
  {
   "cell_type": "code",
   "execution_count": 68,
   "metadata": {},
   "outputs": [
    {
     "name": "stdout",
     "output_type": "stream",
     "text": [
      "[1, 4, 9]\n"
     ]
    }
   ],
   "source": [
    "#a = [\"hello \", \"rhul\", \"rrrr\", 3,3,3]\n",
    "a=[1,2,3]\n",
    "\n",
    "b=[i**2 for i in a]\n",
    "    \n",
    "print(b)"
   ]
  },
  {
   "cell_type": "code",
   "execution_count": null,
   "metadata": {},
   "outputs": [],
   "source": [
    "Q1"
   ]
  },
  {
   "cell_type": "markdown",
   "metadata": {},
   "source": [
    "IN this string colon is used after that it executes \" \""
   ]
  },
  {
   "cell_type": "code",
   "execution_count": 3,
   "metadata": {},
   "outputs": [
    {
     "name": "stdout",
     "output_type": "stream",
     "text": [
      "rahul world 12\n"
     ]
    }
   ],
   "source": [
    "hw12 = '{} {} {}'.format(\"rahul\", \"world\", 12)  # string formatting\n",
    "print(hw12)"
   ]
  },
  {
   "cell_type": "code",
   "execution_count": 5,
   "metadata": {},
   "outputs": [
    {
     "name": "stdout",
     "output_type": "stream",
     "text": [
      "[0, 1, 2, 3, 4]\n",
      "[4, 3, 2, 1, 0]\n"
     ]
    }
   ],
   "source": [
    "a=list(range(5))\n",
    "print(a)\n",
    "print(a[::-1]) # print in reverse order "
   ]
  },
  {
   "cell_type": "code",
   "execution_count": 7,
   "metadata": {},
   "outputs": [
    {
     "name": "stdout",
     "output_type": "stream",
     "text": [
      "cat \n",
      "train\n"
     ]
    }
   ],
   "source": [
    "#a=[\"cat\",\"Dig\",\"pop\"]\n",
    "a=['cat ','train']\n",
    "for i in a:\n",
    "   print (i)"
   ]
  },
  {
   "cell_type": "code",
   "execution_count": 15,
   "metadata": {},
   "outputs": [
    {
     "name": "stdout",
     "output_type": "stream",
     "text": [
      "166\n",
      "166\n"
     ]
    }
   ],
   "source": [
    "a=333//2\n",
    "print(a)\n",
    "b=abs(a)\n",
    "print(b)"
   ]
  },
  {
   "cell_type": "code",
   "execution_count": 2,
   "metadata": {},
   "outputs": [
    {
     "name": "stdout",
     "output_type": "stream",
     "text": [
      "{3.4, 'rahul ', 5, 'hello'}\n"
     ]
    }
   ],
   "source": [
    "d={\"hello\",\"rahul \",3.4,5}\n",
    "print(d)"
   ]
  },
  {
   "cell_type": "code",
   "execution_count": 5,
   "metadata": {},
   "outputs": [
    {
     "name": "stdout",
     "output_type": "stream",
     "text": [
      "{4, 'hello'}\n"
     ]
    }
   ],
   "source": [
    "\n",
    "d={4,4,\"hello\"}\n",
    "print(d)"
   ]
  },
  {
   "cell_type": "code",
   "execution_count": 15,
   "metadata": {},
   "outputs": [
    {
     "name": "stdout",
     "output_type": "stream",
     "text": [
      "enter the no4\n",
      "even\n"
     ]
    }
   ],
   "source": [
    "x=int(input(\"enter the no\"))\n",
    "if x%2 == 0:\n",
    " print(\"even\")\n",
    "else:\n",
    "  print(\"odd\")\n"
   ]
  },
  {
   "cell_type": "code",
   "execution_count": 25,
   "metadata": {},
   "outputs": [
    {
     "name": "stdout",
     "output_type": "stream",
     "text": [
      "Enter the No :3\n",
      "Enter the ON :3\n",
      "equal\n"
     ]
    }
   ],
   "source": [
    "x=int(input(\"Enter the No :\"))\n",
    "y=int(input(\"Enter the ON :\"))        \n",
    "\n",
    "print(\"Greater\")if x>y else print(\"equal\") if x==y else print(\"Smaller \") "
   ]
  },
  {
   "cell_type": "code",
   "execution_count": 26,
   "metadata": {},
   "outputs": [
    {
     "name": "stdout",
     "output_type": "stream",
     "text": [
      "[[0.12474299 0.29125197 0.80025056]\n",
      " [0.31856458 0.18207747 0.29405591]\n",
      " [0.47000409 0.75332237 0.1115115 ]]\n"
     ]
    }
   ],
   "source": [
    "import numpy as np \n",
    "a=np.random.random((3,3))\n",
    "print(a)"
   ]
  },
  {
   "cell_type": "code",
   "execution_count": 15,
   "metadata": {},
   "outputs": [
    {
     "ename": "SyntaxError",
     "evalue": "invalid syntax (<ipython-input-15-8222b5c98fe7>, line 3)",
     "output_type": "error",
     "traceback": [
      "\u001b[1;36m  File \u001b[1;32m\"<ipython-input-15-8222b5c98fe7>\"\u001b[1;36m, line \u001b[1;32m3\u001b[0m\n\u001b[1;33m    print(\"yes\") if x>y\u001b[0m\n\u001b[1;37m                        ^\u001b[0m\n\u001b[1;31mSyntaxError\u001b[0m\u001b[1;31m:\u001b[0m invalid syntax\n"
     ]
    }
   ],
   "source": [
    "x=int(input(\"enter the no\"))\n",
    "y=int(input(\"wnte \"))\n",
    "print(\"yes\") if x>y \n"
   ]
  },
  {
   "cell_type": "code",
   "execution_count": 18,
   "metadata": {},
   "outputs": [
    {
     "name": "stdout",
     "output_type": "stream",
     "text": [
      "make\n",
      "True\n"
     ]
    }
   ],
   "source": [
    "f={'hello' : 'make'}\n",
    "print(f['hello'])\n",
    "print('hello' in f)"
   ]
  },
  {
   "cell_type": "code",
   "execution_count": 23,
   "metadata": {},
   "outputs": [
    {
     "name": "stdout",
     "output_type": "stream",
     "text": [
      "[0, 1, 2, 3, 4, 5, 6, 7, 8, 9, 10, 11, 12, 13, 14, 15, 16, 17, 18, 19, 20, 21, 22, 23, 24, 25, 26, 27, 28, 29, 30, 31, 32, 33, 34, 35, 36, 37, 38, 39, 40, 41, 42, 43, 44, 45, 46, 47, 48, 49, 50, 51, 52, 53, 54, 55, 56, 57, 58, 59, 60, 61, 62, 63, 64, 65, 66, 67, 68, 69, 70, 71, 72, 73, 74, 75, 76, 77, 78, 79, 80, 81, 82, 83, 84, 85, 86, 87, 88, 89, 90, 91, 92, 93, 94, 95, 96, 97, 98, 99]\n",
      "{0: 0, 7: 49, 14: 196, 21: 441, 28: 784, 35: 1225, 42: 1764, 49: 2401, 56: 3136, 63: 3969, 70: 4900, 77: 5929, 84: 7056, 91: 8281, 98: 9604}\n"
     ]
    }
   ],
   "source": [
    "a=list(range(100))\n",
    "print(a)\n",
    "d\n",
    "b = {x: x ** 2 for x in a if x % 7 == 0}\n",
    "print(b)\n"
   ]
  },
  {
   "cell_type": "code",
   "execution_count": 27,
   "metadata": {},
   "outputs": [
    {
     "name": "stdout",
     "output_type": "stream",
     "text": [
      "enter the no100\n"
     ]
    },
    {
     "ename": "NameError",
     "evalue": "name 'sqrt' is not defined",
     "output_type": "error",
     "traceback": [
      "\u001b[1;31m---------------------------------------------------------------------------\u001b[0m",
      "\u001b[1;31mNameError\u001b[0m                                 Traceback (most recent call last)",
      "\u001b[1;32m<ipython-input-27-4335d18f2146>\u001b[0m in \u001b[0;36m<module>\u001b[1;34m\u001b[0m\n\u001b[0;32m      3\u001b[0m \u001b[0ma\u001b[0m\u001b[1;33m=\u001b[0m\u001b[0mint\u001b[0m\u001b[1;33m(\u001b[0m\u001b[0minput\u001b[0m\u001b[1;33m(\u001b[0m\u001b[1;34m\"enter the no\"\u001b[0m\u001b[1;33m)\u001b[0m\u001b[1;33m)\u001b[0m\u001b[1;33m\u001b[0m\u001b[1;33m\u001b[0m\u001b[0m\n\u001b[0;32m      4\u001b[0m \u001b[1;33m\u001b[0m\u001b[0m\n\u001b[1;32m----> 5\u001b[1;33m \u001b[0md\u001b[0m\u001b[1;33m=\u001b[0m\u001b[1;33m{\u001b[0m\u001b[0mx\u001b[0m\u001b[1;33m:\u001b[0m \u001b[0msqrt\u001b[0m\u001b[1;33m(\u001b[0m\u001b[1;33m)\u001b[0m \u001b[1;32mfor\u001b[0m \u001b[0mx\u001b[0m \u001b[1;32min\u001b[0m \u001b[0mrange\u001b[0m\u001b[1;33m(\u001b[0m\u001b[1;36m1\u001b[0m\u001b[1;33m,\u001b[0m\u001b[0ma\u001b[0m\u001b[1;33m)\u001b[0m\u001b[1;33m}\u001b[0m\u001b[1;33m\u001b[0m\u001b[1;33m\u001b[0m\u001b[0m\n\u001b[0m\u001b[0;32m      6\u001b[0m \u001b[0mprint\u001b[0m\u001b[1;33m(\u001b[0m\u001b[1;34m\"dict\"\u001b[0m\u001b[1;33m,\u001b[0m\u001b[0md\u001b[0m\u001b[1;33m)\u001b[0m\u001b[1;33m\u001b[0m\u001b[1;33m\u001b[0m\u001b[0m\n",
      "\u001b[1;32m<ipython-input-27-4335d18f2146>\u001b[0m in \u001b[0;36m<dictcomp>\u001b[1;34m(.0)\u001b[0m\n\u001b[0;32m      3\u001b[0m \u001b[0ma\u001b[0m\u001b[1;33m=\u001b[0m\u001b[0mint\u001b[0m\u001b[1;33m(\u001b[0m\u001b[0minput\u001b[0m\u001b[1;33m(\u001b[0m\u001b[1;34m\"enter the no\"\u001b[0m\u001b[1;33m)\u001b[0m\u001b[1;33m)\u001b[0m\u001b[1;33m\u001b[0m\u001b[1;33m\u001b[0m\u001b[0m\n\u001b[0;32m      4\u001b[0m \u001b[1;33m\u001b[0m\u001b[0m\n\u001b[1;32m----> 5\u001b[1;33m \u001b[0md\u001b[0m\u001b[1;33m=\u001b[0m\u001b[1;33m{\u001b[0m\u001b[0mx\u001b[0m\u001b[1;33m:\u001b[0m \u001b[0msqrt\u001b[0m\u001b[1;33m(\u001b[0m\u001b[1;33m)\u001b[0m \u001b[1;32mfor\u001b[0m \u001b[0mx\u001b[0m \u001b[1;32min\u001b[0m \u001b[0mrange\u001b[0m\u001b[1;33m(\u001b[0m\u001b[1;36m1\u001b[0m\u001b[1;33m,\u001b[0m\u001b[0ma\u001b[0m\u001b[1;33m)\u001b[0m\u001b[1;33m}\u001b[0m\u001b[1;33m\u001b[0m\u001b[1;33m\u001b[0m\u001b[0m\n\u001b[0m\u001b[0;32m      6\u001b[0m \u001b[0mprint\u001b[0m\u001b[1;33m(\u001b[0m\u001b[1;34m\"dict\"\u001b[0m\u001b[1;33m,\u001b[0m\u001b[0md\u001b[0m\u001b[1;33m)\u001b[0m\u001b[1;33m\u001b[0m\u001b[1;33m\u001b[0m\u001b[0m\n",
      "\u001b[1;31mNameError\u001b[0m: name 'sqrt' is not defined"
     ]
    }
   ],
   "source": [
    "import math\n",
    "\n",
    "a=int(input(\"enter the no\"))\n",
    "\n",
    "d={x: sqrt() for x in range(1,a)}\n",
    "print(\"dict\",d)"
   ]
  },
  {
   "cell_type": "code",
   "execution_count": 28,
   "metadata": {},
   "outputs": [
    {
     "name": "stdout",
     "output_type": "stream",
     "text": [
      "<class 'dict'>\n",
      "{0: 0, 2: 4, 4: 16}\n"
     ]
    }
   ],
   "source": [
    "nums = [0, 1, 2, 3, 4]\n",
    "even_num_to_square = {x: x ** 2 for x in nums if x % 2 == 0}\n",
    "print(type(even_num_to_square))\n",
    "print(even_num_to_square)\n",
    "\n"
   ]
  },
  {
   "cell_type": "code",
   "execution_count": 38,
   "metadata": {},
   "outputs": [
    {
     "ename": "SyntaxError",
     "evalue": "invalid syntax (<ipython-input-38-efe37416a207>, line 4)",
     "output_type": "error",
     "traceback": [
      "\u001b[1;36m  File \u001b[1;32m\"<ipython-input-38-efe37416a207>\"\u001b[1;36m, line \u001b[1;32m4\u001b[0m\n\u001b[1;33m    d={x: x=(m.sqrt(x))   for x in a if x/7 ==0}\u001b[0m\n\u001b[1;37m           ^\u001b[0m\n\u001b[1;31mSyntaxError\u001b[0m\u001b[1;31m:\u001b[0m invalid syntax\n"
     ]
    }
   ],
   "source": [
    "\n",
    " \n",
    "a=list(range(100))\n",
    "print(a)\n",
    "import math as m\n",
    "d={x: x=(m.sqrt(x))   for x in a if x/7 ==0}\n",
    "print(d)"
   ]
  },
  {
   "cell_type": "code",
   "execution_count": 43,
   "metadata": {},
   "outputs": [
    {
     "name": "stdout",
     "output_type": "stream",
     "text": [
      "[0, 1, 2, 3, 4, 5, 6, 7, 8, 9, 10, 11, 12, 13, 14, 15, 16, 17, 18, 19]\n",
      "dictornary= {0: 0.0, 7: 3.5, 14: 7.0}\n"
     ]
    }
   ],
   "source": [
    "a=list(range(20))\n",
    "\n",
    "print(a)\n",
    "d={ x : x * 0.5 for x in a if x%7 ==0 }\n",
    "print(\"dictornary=\",d)"
   ]
  },
  {
   "cell_type": "code",
   "execution_count": 78,
   "metadata": {},
   "outputs": [
    {
     "ename": "NameError",
     "evalue": "name 'randint' is not defined",
     "output_type": "error",
     "traceback": [
      "\u001b[1;31m---------------------------------------------------------------------------\u001b[0m",
      "\u001b[1;31mNameError\u001b[0m                                 Traceback (most recent call last)",
      "\u001b[1;32m<ipython-input-78-16e627335f1e>\u001b[0m in \u001b[0;36m<module>\u001b[1;34m\u001b[0m\n\u001b[0;32m      1\u001b[0m \u001b[1;32mimport\u001b[0m \u001b[0mnumpy\u001b[0m \u001b[1;32mas\u001b[0m \u001b[0mnp\u001b[0m\u001b[1;33m\u001b[0m\u001b[1;33m\u001b[0m\u001b[0m\n\u001b[1;32m----> 2\u001b[1;33m \u001b[0ma\u001b[0m\u001b[1;33m=\u001b[0m\u001b[0mrandint\u001b[0m\u001b[1;33m(\u001b[0m\u001b[1;36m0\u001b[0m\u001b[1;33m,\u001b[0m\u001b[1;36m10\u001b[0m\u001b[1;33m)\u001b[0m\u001b[1;33m\u001b[0m\u001b[1;33m\u001b[0m\u001b[0m\n\u001b[0m\u001b[0;32m      3\u001b[0m \u001b[0mprint\u001b[0m\u001b[1;33m(\u001b[0m\u001b[0ma\u001b[0m\u001b[1;33m)\u001b[0m\u001b[1;33m\u001b[0m\u001b[1;33m\u001b[0m\u001b[0m\n",
      "\u001b[1;31mNameError\u001b[0m: name 'randint' is not defined"
     ]
    }
   ],
   "source": []
  },
  {
   "cell_type": "code",
   "execution_count": 79,
   "metadata": {},
   "outputs": [
    {
     "name": "stdout",
     "output_type": "stream",
     "text": [
      "['0x2e7', '0x3cd', '0x22f', '0x1a2', '0x60', '0xe4', '0x15e', '0x147', '0x1c5', '0x27e', '0x1d7', '0x372', '0x369', '0x30f', '0x82', '0x2f4', '0x42', '0x266', '0x3b9', '0x288', '0x34c', '0xb1', '0x226', '0x37c', '0x36c', '0xc5', '0x259', '0x393', '0x4c', '0x1e0', '0x5', '0x381', '0x24f', '0x1fb', '0x121', '0x2c3', '0x299', '0x13d', '0x1f3', '0x281', '0x1f', '0x5d', '0x260', '0x257', '0x3f', '0xaf', '0x253', '0x1b5', '0x384', '0x189', '0x1af', '0x36b', '0x13a', '0x261', '0x15a', '0x155', '0x1bd', '0x3', '0xa8', '0x5', '0x13', '0x7d', '0x8b', '0x1c1', '0x373', '0x231', '0x2a0', '0x3b', '0x1f3', '0x2a', '0x104', '0x38f', '0xe6', '0x33d', '0x17f', '0x2c9', '0x1ee', '0x19d', '0x2fe', '0x3e', '0x340', '0x2b0', '0x2aa', '0x11e', '0x42', '0x1a0', '0x19a', '0x320', '0x14', '0x37', '0x2dd', '0x279', '0x1e2', '0xc2', '0x271', '0x2a5', '0x168', '0x33d', '0x104', '0x2f6', '0x2eb', '0x85', '0x114', '0x3e3', '0x265', '0x27b', '0x19e', '0x8', '0x31b', '0x25a', '0x32b', '0x39c', '0x39c', '0x11d', '0x307', '0x2c7', '0x97', '0x34c', '0x3bb', '0x2f8', '0x2a', '0x95', '0x93', '0x154', '0xa5', '0x226', '0x255', '0xc', '0x25f', '0x3c6', '0x1cd', '0x199', '0x3b8', '0x2a', '0x2a4', '0x1c3', '0x17a', '0x109', '0x9a', '0x1a7', '0x152', '0x356', '0xce', '0xab', '0x17', '0x292', '0x43', '0x157', '0x39d', '0x24d', '0xc5', '0x20b', '0x28a', '0x200', '0x242', '0x3dd', '0x135', '0x2e3', '0x140', '0x220', '0x1b6', '0x62', '0x237', '0x307', '0x65', '0x278', '0xb2', '0x52', '0x5f', '0x15f', '0x1d4', '0x3b2', '0x1d1', '0x30a', '0x28e', '0x9e', '0x32a', '0x126', '0x224', '0x1a5', '0x3cb', '0x11b', '0x28e', '0x11b', '0x321', '0x106', '0x1b8', '0x30b', '0x336', '0xc6', '0x2bc', '0x2d7', '0x3bb', '0x1f9', '0xae', '0x236', '0x27d', '0x367', '0x54', '0x32d', '0x35a', '0x2b2', '0x9b', '0x1d2', '0x331', '0x28f', '0x5', '0x1e7', '0x45', '0x98', '0x1ee', '0x13b', '0x3cc', '0x16f', '0x2bd', '0x7f', '0x49', '0x165', '0x2dc', '0x3d8', '0x18d', '0x1af', '0x42', '0xb2', '0x251', '0x301', '0x96', '0x11', '0x3dc', '0x3c1', '0x108', '0x24a', '0x360', '0x13', '0x13c', '0x318', '0x22a', '0x303', '0x168', '0x3af', '0x23', '0xc6', '0x7f', '0x27b', '0x326', '0x1d0', '0x221', '0x1a3', '0x77', '0x159', '0xb3', '0x236', '0x23d', '0x236', '0x365', '0x24c', '0x33c', '0x2b0', '0x7', '0x19c', '0x9b', '0x135', '0x321', '0x2d9', '0x152', '0x141', '0x1bc', '0x16c', '0x343', '0x29e', '0x391', '0x36b', '0xb2', '0x26d', '0x2b6', '0x125', '0x10f', '0x247', '0x187', '0x20', '0x377', '0x3a5', '0x2ab', '0x21', '0x353', '0x261', '0x1d4', '0x40', '0x262', '0x32a', '0x210', '0x25f', '0x1fc', '0x17a', '0x228', '0x17e', '0x275', '0x1f4', '0x242', '0x350', '0x3d1', '0xff', '0x2f3', '0x1c6', '0x31b', '0x37f', '0x127', '0x281', '0x8d', '0xc5', '0x334', '0x327', '0x2e0', '0x140', '0x33e', '0x177', '0x10a', '0x278', '0x3e0', '0xb4', '0x106', '0x4', '0x3d2', '0x77', '0x15', '0x3e1', '0x12c', '0x2fe', '0x147', '0x116', '0xda', '0xec', '0xe5', '0x358', '0x1f3', '0x3a0', '0x1ab', '0x1be', '0x38c', '0x3b0', '0x93', '0x260', '0x12b', '0x28a', '0x331', '0x312', '0x272', '0x25d', '0x207', '0x3b7', '0x2c7', '0x14a', '0x194', '0x28f', '0xc9', '0x29f', '0xb6', '0x66', '0xd5', '0xea', '0x7', '0x36c', '0xca', '0xd1', '0x386', '0x31e', '0xdb', '0x1d4', '0x3a4', '0x33a', '0x12', '0x1c2', '0x83', '0x1ac', '0x1a6', '0x26e', '0x247', '0x2da', '0x294', '0x332', '0x124', '0x389', '0x20a', '0x3d2', '0x35f', '0x1e2', '0x364', '0x246', '0x1a6', '0x287', '0x249', '0x27c', '0x2f', '0x2a1', '0x36d', '0x2e4', '0xa5', '0x24', '0x22', '0x63', '0x60', '0x1ad', '0x279', '0x6a', '0x7d', '0x234', '0x19d', '0x2b6', '0x2b', '0x69', '0x14e', '0xde', '0x2ac', '0x277', '0x357', '0x2b8', '0x1ee', '0x310', '0x20e', '0x4d', '0x194', '0x3ad', '0x1e9', '0xaa', '0x31d', '0x1db', '0x55', '0x39d', '0x2cf', '0xdd', '0x3b1', '0xfb', '0x27', '0x150', '0xbc', '0x64', '0x1ef', '0x31d', '0x15b', '0x328', '0x2ad', '0x2e5', '0x390', '0x131', '0x377', '0x25e', '0x356', '0x116', '0x34b', '0x1a', '0x18b', '0x8b', '0x2e2', '0x34c', '0x33d', '0x128', '0x36d', '0xfe', '0x183', '0x1a8', '0x350', '0x97', '0x251', '0x25c', '0x16b', '0x3a5', '0x17f', '0x165', '0xa5', '0x12a', '0x1c7', '0x137', '0xe2', '0x3b1', '0x102', '0x26a', '0x2e8', '0x253', '0x2e7', '0x18c', '0x1ba', '0x1f8', '0x121', '0xae', '0x2bc', '0x284', '0x7b', '0x2b1', '0x3c5', '0x109', '0xad', '0x12f', '0x190', '0xb7', '0x90', '0xf1', '0x79', '0x67', '0x3cd', '0x335', '0x22d', '0x180', '0x389', '0xd6', '0x215', '0x3af', '0x3cb', '0xf1', '0x26', '0x150', '0x2ad', '0x160', '0x27b', '0x10e', '0x355', '0x341', '0xeb', '0x1f9', '0x201', '0xd', '0x33e', '0x170', '0x360', '0x47', '0xe1', '0x176', '0x2e6', '0xee', '0x6e', '0x81', '0x19b', '0x204', '0x3d2', '0xfa', '0x10c', '0x174', '0xcd', '0x39c', '0x1d0', '0x3e0', '0x3d', '0x8b', '0xdd', '0x12d', '0x371', '0x2a0', '0x10a', '0x142', '0x273', '0x36', '0x1b6', '0x2b3', '0x8a', '0x21b', '0x337', '0x27f', '0x3b4', '0x2e', '0x54', '0x2a4', '0x104', '0x35c', '0x111', '0x21f', '0x46', '0x33f', '0x82', '0xcb', '0xba', '0x21e', '0x19b', '0x2d9', '0xfc', '0x2cf', '0x173', '0x17f', '0x356', '0xac', '0x3b5', '0x2fc', '0x1b3', '0x3e7', '0x34', '0x2fc', '0x16', '0x157', '0x1cb', '0x22', '0x35', '0x8', '0xc8', '0x1eb', '0x232', '0x182', '0x245', '0x3b6', '0x108', '0x169', '0x22e', '0x3f', '0x34b', '0x387', '0x1e8', '0x206', '0x281', '0x3a3', '0xec', '0x9d', '0x72', '0x2db', '0x62', '0x250', '0x2df', '0x336', '0x190', '0x310', '0x18b', '0x14f', '0x323', '0x35b', '0x144', '0x36d', '0x44', '0x3c8', '0x1a9', '0x14d', '0x8c', '0x32b', '0x117', '0x21d', '0xac', '0x154', '0xc6', '0x3b3', '0xf7', '0xa3', '0x2d6', '0x1b1', '0x120', '0x3e', '0x38a', '0x5b', '0x15c', '0x3c', '0x1db', '0x3e1', '0x128', '0xc', '0x6b', '0x2e7', '0x30a', '0x37', '0x18a', '0x236', '0x254', '0x11c', '0x1dc', '0x10b', '0x181', '0x274', '0x80', '0xda', '0x385', '0x273', '0x21', '0x142', '0x64', '0x2ea', '0xdd', '0x1e8', '0x166', '0x2ac', '0x3e0', '0xb', '0x200', '0x34c', '0x39a', '0x39a', '0x2e2', '0x14c', '0x310', '0x6e', '0x26e', '0x347', '0x75', '0x34e', '0x101', '0x385', '0x16', '0xf6', '0x143', '0x9c', '0x4e', '0x31', '0x3a4', '0x3de', '0x2ba', '0x29d', '0x1dd', '0x1f2', '0x267', '0x3aa', '0x10f', '0x1e4', '0x35d', '0x2ee', '0x374', '0x367', '0x96', '0xc1', '0x91', '0x41', '0x14d', '0x151', '0x4c', '0x3b6', '0x221', '0xfc', '0x3e5', '0x106', '0x29e', '0x354', '0x0', '0x49', '0x90', '0x328', '0x3a7', '0x9b', '0x385', '0x1b8', '0x2ed', '0xe6', '0xc5', '0xaa', '0x30f', '0x2be', '0x29c', '0x2ef', '0x8d', '0x1d4', '0x2b0', '0x339', '0x28b', '0x131', '0x1f', '0x208', '0x210', '0xde', '0x328', '0x13c', '0x155', '0x13f', '0x8f', '0x1df', '0xf3', '0x219', '0x234', '0x3b0', '0x0', '0x126', '0x1d0', '0x2ef', '0x3e', '0x1d5', '0x1b6', '0x258', '0x11e', '0x258', '0x3e5', '0x279', '0xff', '0x266', '0x326', '0x3cd', '0x2e4', '0x230', '0x1c4', '0x10b', '0x250', '0x2df', '0x221', '0x1ab', '0x39e', '0x368', '0x27e', '0x2c3', '0x222', '0x34d', '0x230', '0x41', '0x138', '0x21a', '0xb0', '0x2f1', '0x7c', '0x184', '0x288', '0x15b', '0x177', '0x98', '0xa2', '0x22a', '0x2db', '0x398', '0x353', '0x2ba', '0x3a9', '0xc2', '0x275', '0x188', '0x37f', '0x3cf', '0x1ff', '0x26c', '0x336', '0x3b6', '0x317', '0x2', '0x16c', '0x9c', '0x2b', '0x4', '0x2e0', '0x33a', '0x60', '0x237', '0x36b', '0x2db', '0x3d8', '0x1af', '0x36c', '0x280', '0x12e', '0x83', '0x1a0', '0x80', '0x60', '0x376', '0x19d', '0x369', '0x30d', '0x24f', '0x21d', '0xc6', '0x11', '0x232', '0x38b', '0x132', '0x6d', '0x166', '0x177', '0x2c6', '0x1cd', '0xec', '0x2e8', '0x2a', '0x1e5', '0x3e4', '0xed', '0x21c', '0x18b', '0x283', '0x348', '0x30c', '0x305', '0x219', '0x263', '0x28e', '0x4d', '0x11d', '0x276', '0x20', '0x38d', '0xc6', '0x36', '0x2df', '0x390', '0x2a7', '0x26c', '0x1aa', '0x2a6', '0x39', '0x61', '0x14c', '0x250', '0xba', '0x1ed', '0x142', '0x258', '0x1d8', '0x306', '0x201', '0x3af', '0x2fd', '0x4', '0x14f', '0x3a0', '0x28c', '0xfd', '0x4b', '0x3cb', '0x3d3', '0x18b', '0x26', '0x15b', '0x11e', '0xd7', '0x23d', '0x1d7', '0x241', '0x2c', '0xad', '0x2ea', '0x348', '0xf7', '0x1ce', '0x2b2', '0x359', '0x24c', '0x3bf', '0x8f', '0x122', '0x2c5', '0x11d', '0x5a', '0x25a', '0x182', '0xbb', '0x365', '0xa9', '0x30a', '0x32', '0x188', '0xb5', '0x268', '0x9f', '0x1ad', '0x134', '0x158', '0x79', '0x89', '0x17d', '0x3c8', '0x3c9', '0xa5', '0x100', '0x36b', '0x10c', '0x2f9', '0x5b', '0x347', '0x1e5', '0x15f', '0x35e', '0x23', '0x2d7', '0x22a', '0x73', '0x28f', '0x2c9', '0x9f', '0x3db', '0x350', '0x2f2', '0x93', '0x12d', '0xed', '0x34a', '0x278', '0x1f5', '0x88', '0x1a6', '0x14f', '0x263', '0x15c', '0x218', '0x9e', '0x274', '0x2c5', '0xa0', '0x394', '0x3b3', '0x2e6', '0x68', '0x131', '0xb0', '0x32f', '0x35e', '0x3d2', '0xb1', '0x2c6', '0x38f', '0x36c', '0x2d5', '0x20b', '0x13f', '0xa0', '0x1d0', '0x106', '0x2cc']\n"
     ]
    }
   ],
   "source": [
    "import  random\n",
    "res=[random.randrange(0,1000) for i in range(1000)]\n",
    "a=[hex(x) for x in res]\n",
    "print(a)"
   ]
  },
  {
   "cell_type": "code",
   "execution_count": 83,
   "metadata": {},
   "outputs": [
    {
     "ename": "IndentationError",
     "evalue": "unexpected indent (<ipython-input-83-939ba0150fd7>, line 2)",
     "output_type": "error",
     "traceback": [
      "\u001b[1;36m  File \u001b[1;32m\"<ipython-input-83-939ba0150fd7>\"\u001b[1;36m, line \u001b[1;32m2\u001b[0m\n\u001b[1;33m    a=random.random(0,10)\u001b[0m\n\u001b[1;37m    ^\u001b[0m\n\u001b[1;31mIndentationError\u001b[0m\u001b[1;31m:\u001b[0m unexpected indent\n"
     ]
    }
   ],
   "source": [
    " import numpy as np\n",
    "    a=random.random(0,10)\n",
    "    for i in range(10):\n",
    "        \n",
    "       print(i)"
   ]
  },
  {
   "cell_type": "code",
   "execution_count": 2,
   "metadata": {},
   "outputs": [
    {
     "name": "stdout",
     "output_type": "stream",
     "text": [
      "10\n",
      "[4 6]\n",
      "[3 7]\n"
     ]
    }
   ],
   "source": [
    "import numpy as np\n",
    "x = np.array([[1,2],[3,4]])\n",
    "\n",
    "print(np.sum(x))  # Compute sum of all elements; prints \"10\"\n",
    "print(np.sum(x, axis=0))  # Compute sum of each column; prints \"[4 6]\"\n",
    "print(np.sum(x, axis=1))  # Compute sum of each row; prints \"[3 7]\""
   ]
  },
  {
   "cell_type": "code",
   "execution_count": 1,
   "metadata": {},
   "outputs": [
    {
     "data": {
      "text/plain": [
       "453"
      ]
     },
     "execution_count": 1,
     "metadata": {},
     "output_type": "execute_result"
    }
   ],
   "source": [
    "x=453\n",
    "x"
   ]
  },
  {
   "cell_type": "code",
   "execution_count": 2,
   "metadata": {},
   "outputs": [
    {
     "data": {
      "text/plain": [
       "'hello'"
      ]
     },
     "execution_count": 2,
     "metadata": {},
     "output_type": "execute_result"
    }
   ],
   "source": [
    "x=\"hello\"\n",
    "x"
   ]
  },
  {
   "cell_type": "code",
   "execution_count": 5,
   "metadata": {},
   "outputs": [
    {
     "data": {
      "text/plain": [
       "int"
      ]
     },
     "execution_count": 5,
     "metadata": {},
     "output_type": "execute_result"
    }
   ],
   "source": [
    "c=3\n",
    "type(c)"
   ]
  },
  {
   "cell_type": "code",
   "execution_count": null,
   "metadata": {},
   "outputs": [],
   "source": [
    "a=\"First_name\" \n",
    "a + \" goes to school\"\n",
    "\n",
    "\n"
   ]
  },
  {
   "cell_type": "code",
   "execution_count": 1,
   "metadata": {},
   "outputs": [
    {
     "name": "stdout",
     "output_type": "stream",
     "text": [
      "3\n"
     ]
    }
   ],
   "source": [
    "x=3\n",
    "print(x)"
   ]
  },
  {
   "cell_type": "code",
   "execution_count": 2,
   "metadata": {},
   "outputs": [
    {
     "name": "stdout",
     "output_type": "stream",
     "text": [
      "enter3\n",
      "not a prime no\n"
     ]
    }
   ],
   "source": [
    "x=int(input(\"enter\"))\n",
    "if x>0:\n",
    "    for i in range(2,x):\n",
    "        if i%2==0:\n",
    "            print(\"not a prime no\")\n",
    "        else:\n",
    "            print(\"prime\")"
   ]
  },
  {
   "cell_type": "code",
   "execution_count": 3,
   "metadata": {},
   "outputs": [
    {
     "name": "stdout",
     "output_type": "stream",
     "text": [
      "enter3\n",
      "ebnte5\n",
      "smaller\n"
     ]
    }
   ],
   "source": [
    " x=int(input(\"enter\"))\n",
    "\n",
    "t=int(input(\"ebnte\"))\n",
    "\n",
    "print(\"greater\") if x>t else print(\"smaller\")\n",
    "\n",
    " \n",
    "      \n",
    "    "
   ]
  },
  {
   "cell_type": "markdown",
   "metadata": {},
   "source": [
    "# document "
   ]
  },
  {
   "cell_type": "code",
   "execution_count": 5,
   "metadata": {},
   "outputs": [
    {
     "name": "stdout",
     "output_type": "stream",
     "text": [
      "3\n"
     ]
    }
   ],
   "source": [
    "# incline funcito\n",
    "\n",
    "\"\"\" helll ois iii make ais thk\n",
    "dfjdkf\n",
    "skjfk\n",
    "\"\"\"\n",
    "\n",
    "s=3\n",
    "print(s)"
   ]
  },
  {
   "cell_type": "code",
   "execution_count": 5,
   "metadata": {},
   "outputs": [
    {
     "name": "stdout",
     "output_type": "stream",
     "text": [
      "hello hee\n",
      "hello\n",
      "it's my name\n"
     ]
    }
   ],
   "source": [
    "print(\"hello\",'hee')\n",
    "print('hello')\n",
    "print(\"it's my name\")"
   ]
  },
  {
   "cell_type": "code",
   "execution_count": 7,
   "metadata": {},
   "outputs": [
    {
     "name": "stdout",
     "output_type": "stream",
     "text": [
      "rahu l 5 good\n",
      "rahul is good\n"
     ]
    }
   ],
   "source": [
    "print(\"rahu l\",5,\"good\")\n",
    "print(\"rahul \" + \"is good\")"
   ]
  },
  {
   "cell_type": "code",
   "execution_count": 8,
   "metadata": {},
   "outputs": [
    {
     "name": "stdout",
     "output_type": "stream",
     "text": [
      "0\n"
     ]
    }
   ],
   "source": [
    "eror = 0\n",
    "print(eror)"
   ]
  },
  {
   "cell_type": "code",
   "execution_count": 9,
   "metadata": {},
   "outputs": [
    {
     "name": "stdout",
     "output_type": "stream",
     "text": [
      "hello rahul surnbjo prinece\n"
     ]
    }
   ],
   "source": [
    "print(\"hello\",\"rahul\",\"surnbjo\",\"prinece\")"
   ]
  },
  {
   "cell_type": "code",
   "execution_count": 1,
   "metadata": {},
   "outputs": [
    {
     "name": "stdout",
     "output_type": "stream",
     "text": [
      "Manahail Is Rsading A Book\n"
     ]
    }
   ],
   "source": [
    "print(\"manahail is rsading a book\".title())"
   ]
  },
  {
   "cell_type": "code",
   "execution_count": 4,
   "metadata": {},
   "outputs": [
    {
     "name": "stdout",
     "output_type": "stream",
     "text": [
      "what is your fav food?good\n",
      "good\n"
     ]
    }
   ],
   "source": [
    "fav_food = input(\"what is your fav food?\")\n",
    "print(fav_food)\n"
   ]
  },
  {
   "cell_type": "code",
   "execution_count": 6,
   "metadata": {},
   "outputs": [
    {
     "name": "stdout",
     "output_type": "stream",
     "text": [
      "True\n"
     ]
    }
   ],
   "source": [
    "a=\"pen , book , food \"\n",
    "print(\"pen\" in a\n",
    "     )"
   ]
  },
  {
   "cell_type": "code",
   "execution_count": 10,
   "metadata": {},
   "outputs": [
    {
     "name": "stdout",
     "output_type": "stream",
     "text": [
      "write a no\n",
      "444\n"
     ]
    }
   ],
   "source": [
    "\n",
    "print(\"write a no\")\n",
    "a=input()"
   ]
  },
  {
   "cell_type": "code",
   "execution_count": 11,
   "metadata": {},
   "outputs": [
    {
     "name": "stdout",
     "output_type": "stream",
     "text": [
      "weite ta no\n",
      "e3\n"
     ]
    }
   ],
   "source": [
    "print(\"weite ta no\")\n",
    "\n",
    "a=input()"
   ]
  },
  {
   "cell_type": "code",
   "execution_count": 12,
   "metadata": {},
   "outputs": [
    {
     "name": "stdout",
     "output_type": "stream",
     "text": [
      "{1: 'pythion', 2: 'ocook'}\n"
     ]
    }
   ],
   "source": [
    "courses= { 1: 'pythion' , 2: 'ocook'}\n",
    "print(courses)"
   ]
  },
  {
   "cell_type": "code",
   "execution_count": 14,
   "metadata": {},
   "outputs": [
    {
     "name": "stdout",
     "output_type": "stream",
     "text": [
      "hello\n"
     ]
    }
   ],
   "source": [
    "def edurkea():\n",
    "    print(\"hello\")\n",
    "    \n",
    "edurkea()"
   ]
  },
  {
   "cell_type": "code",
   "execution_count": 15,
   "metadata": {},
   "outputs": [
    {
     "ename": "IndentationError",
     "evalue": "expected an indented block (<ipython-input-15-c3b2ac3f492c>, line 3)",
     "output_type": "error",
     "traceback": [
      "\u001b[1;36m  File \u001b[1;32m\"<ipython-input-15-c3b2ac3f492c>\"\u001b[1;36m, line \u001b[1;32m3\u001b[0m\n\u001b[1;33m    print(\"hello\")\u001b[0m\n\u001b[1;37m    ^\u001b[0m\n\u001b[1;31mIndentationError\u001b[0m\u001b[1;31m:\u001b[0m expected an indented block\n"
     ]
    }
   ],
   "source": [
    "class edu:\n",
    "    def gin():\n",
    "    print(\"hello\")\n",
    "    \n",
    "gin"
   ]
  },
  {
   "cell_type": "code",
   "execution_count": 18,
   "metadata": {},
   "outputs": [
    {
     "name": "stdout",
     "output_type": "stream",
     "text": [
      "print help\n"
     ]
    }
   ],
   "source": [
    "class edu:\n",
    "    \n",
    "    def fun(self):\n",
    "        print(\"print help\")\n",
    "        \n",
    "x=edu()\n",
    "x.fun()"
   ]
  },
  {
   "cell_type": "code",
   "execution_count": 39,
   "metadata": {},
   "outputs": [
    {
     "name": "stdout",
     "output_type": "stream",
     "text": [
      "['o', 'a', 'a', 'o', 'o', 'o', 'o', 'o']\n",
      "['a', 'a', 'a', 'o']\n",
      "2\n",
      "6\n",
      "3\n",
      "1\n",
      "8\n",
      "4\n",
      "0.1\n",
      "0.44999999999999996\n",
      "proabba of a  0.5499999999999999\n"
     ]
    }
   ],
   "source": [
    "\n",
    "R=['o','a','a','o','o','o','o','o']\n",
    "B=['a','a','a','o']\n",
    "\n",
    "print(R)\n",
    "print(B)\n",
    "print(R.count('a'))\n",
    "print(R.count('o'))\n",
    "\n",
    "print(B.count('a'))\n",
    "print(B.count('o'))\n",
    "\n",
    "r=len(R)\n",
    "print(r)\n",
    "b=len(B)\n",
    "print(b)\n",
    "\n",
    "# ques\n",
    "Pr=0.4\n",
    "Pb=0.6\n",
    "\n",
    "T=( R.count('a') /  r )\n",
    "print(T*Pr)\n",
    "\n",
    "Y= (B.count('a') / b)\n",
    "print( Y*Pb)\n",
    "\n",
    "print(\"proabba of a \", T*Pr + Y*Pb)\n",
    "\n"
   ]
  },
  {
   "cell_type": "code",
   "execution_count": null,
   "metadata": {},
   "outputs": [],
   "source": []
  }
 ],
 "metadata": {
  "kernelspec": {
   "display_name": "Python 3",
   "language": "python",
   "name": "python3"
  },
  "language_info": {
   "codemirror_mode": {
    "name": "ipython",
    "version": 3
   },
   "file_extension": ".py",
   "mimetype": "text/x-python",
   "name": "python",
   "nbconvert_exporter": "python",
   "pygments_lexer": "ipython3",
   "version": "3.8.5"
  }
 },
 "nbformat": 4,
 "nbformat_minor": 4
}
